{
 "cells": [
  {
   "cell_type": "code",
   "execution_count": 1,
   "metadata": {},
   "outputs": [
    {
     "name": "stdout",
     "output_type": "stream",
     "text": [
      "                   A         B         C\n",
      "2023-07-04 -1.598912  0.039650 -0.262837\n",
      "2023-07-05  0.152820 -1.302046 -0.741988\n",
      "2023-07-06  0.974122 -0.873274 -0.245026\n",
      "2023-07-07 -1.118076  0.743308  0.135593\n",
      "2023-07-08  0.473413 -0.682761  0.714692\n"
     ]
    }
   ],
   "source": [
    "import numpy as np\n",
    "import pandas as pd\n",
    "\n",
    "data = np.random.randn(5, 3)\n",
    "columns = ['A', 'B', 'C']\n",
    "index = pd.date_range('2023-07-04', periods=5)\n"
   ]
  },
  {
   "cell_type": "code",
   "execution_count": 2,
   "metadata": {},
   "outputs": [
    {
     "name": "stdout",
     "output_type": "stream",
     "text": [
      "                   A         B         C\n",
      "2023-07-04 -1.598912  0.039650 -0.262837\n",
      "2023-07-05  0.152820 -1.302046 -0.741988\n",
      "2023-07-06  0.974122 -0.873274 -0.245026\n",
      "2023-07-07 -1.118076  0.743308  0.135593\n",
      "2023-07-08  0.473413 -0.682761  0.714692\n"
     ]
    }
   ],
   "source": [
    "df = pd.DataFrame(data, index=index, columns = columns)\n",
    "print(df)"
   ]
  }
 ],
 "metadata": {
  "kernelspec": {
   "display_name": "Python 3",
   "language": "python",
   "name": "python3"
  },
  "language_info": {
   "codemirror_mode": {
    "name": "ipython",
    "version": 3
   },
   "file_extension": ".py",
   "mimetype": "text/x-python",
   "name": "python",
   "nbconvert_exporter": "python",
   "pygments_lexer": "ipython3",
   "version": "3.11.3"
  },
  "orig_nbformat": 4
 },
 "nbformat": 4,
 "nbformat_minor": 2
}
